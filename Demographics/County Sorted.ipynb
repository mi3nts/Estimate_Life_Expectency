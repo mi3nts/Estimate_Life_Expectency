{
 "cells": [
  {
   "cell_type": "code",
   "execution_count": 1,
   "id": "1f203a5c-e871-4c00-a3c1-cc23ce88815d",
   "metadata": {},
   "outputs": [],
   "source": [
    "# Import necessary libraries\n",
    "import pandas as pd\n",
    "import requests"
   ]
  },
  {
   "cell_type": "code",
   "execution_count": 2,
   "id": "6c787f74-82c3-4e70-a30b-0cf09f0df83e",
   "metadata": {},
   "outputs": [],
   "source": [
    "# Download FIPS codes from a reliable source\n",
    "#fips_url = 'https://raw.githubusercontent.com/kjhealy/fips-codes/master/state_and_county_fips_master.csv'\n",
    "fips_path = '/Users/samyakshrestha/Desktop/ER CASE/Life Expectancy/Data/Modified_fips_by_state_v4.csv'\n",
    "#fips_df = pd.read_csv(fips_url, dtype={'fips': str})\n",
    "fips_df = pd.read_csv(fips_path, dtype={'fips': str})"
   ]
  },
  {
   "cell_type": "code",
   "execution_count": 3,
   "id": "ee0b4914-9d81-4749-adc8-d9489cd8684a",
   "metadata": {},
   "outputs": [],
   "source": [
    "# Ensure the 'fips' column is correctly formatted to 5 digits\n",
    "fips_df['fips'] = fips_df['fips'].str.zfill(5)"
   ]
  },
  {
   "cell_type": "code",
   "execution_count": 4,
   "id": "23b3bd62-c14b-4f28-ab2f-b0c6218b26e3",
   "metadata": {},
   "outputs": [
    {
     "name": "stdout",
     "output_type": "stream",
     "text": [
      "FIPS DataFrame Preview:\n",
      "    fips            name state\n",
      "0  01001  Autauga County    AL\n",
      "1  01003  Baldwin County    AL\n",
      "2  01005  Barbour County    AL\n",
      "3  01007     Bibb County    AL\n",
      "4  01009   Blount County    AL\n"
     ]
    }
   ],
   "source": [
    "# Preview the FIPS dataframe\n",
    "print(\"FIPS DataFrame Preview:\")\n",
    "print(fips_df.head())"
   ]
  },
  {
   "cell_type": "code",
   "execution_count": 5,
   "id": "1afe095c-37ae-4cd1-990c-ce1a391c8182",
   "metadata": {},
   "outputs": [],
   "source": [
    "# Load your 2019 life expectancy dataset\n",
    "life_expectancy_path = '/Users/samyakshrestha/Desktop/ER CASE/Life Expectancy/Data/Single_year_Dataframe.csv'  # Update this path\n",
    "life_df = pd.read_csv(life_expectancy_path)"
   ]
  },
  {
   "cell_type": "code",
   "execution_count": 6,
   "id": "21ad6c3e-d15d-4390-a660-4be64cb2fe20",
   "metadata": {},
   "outputs": [
    {
     "name": "stdout",
     "output_type": "stream",
     "text": [
      "\n",
      "Life Expectancy DataFrame Preview:\n",
      "   Unnamed: 0             location_name  year  MeanLifeExpectency\n",
      "0         228  Autauga County (Alabama)  2019           76.593265\n",
      "1         234  Baldwin County (Alabama)  2019           78.293522\n",
      "2         240  Barbour County (Alabama)  2019           74.814532\n",
      "3         246     Bibb County (Alabama)  2019           73.920054\n",
      "4         252   Blount County (Alabama)  2019           75.029186\n"
     ]
    }
   ],
   "source": [
    "# Preview the life expectancy dataframe\n",
    "print(\"\\nLife Expectancy DataFrame Preview:\")\n",
    "print(life_df.head())"
   ]
  },
  {
   "cell_type": "code",
   "execution_count": 7,
   "id": "803a1ebe-e02e-46d0-bdd1-7d9238addedd",
   "metadata": {},
   "outputs": [],
   "source": [
    "# Clean and separate 'location_name' into 'County' and 'State' columns\n",
    "life_df[['County', 'State']] = life_df['location_name'].str.extract(r'^(.*) \\((.*)\\)$')"
   ]
  },
  {
   "cell_type": "code",
   "execution_count": 8,
   "id": "640748ed-9f0d-47ee-8856-f737b2e68b92",
   "metadata": {},
   "outputs": [],
   "source": [
    "# Standardize state names to match FIPS data\n",
    "life_df['State'] = life_df['State'].str.strip()"
   ]
  },
  {
   "cell_type": "code",
   "execution_count": 9,
   "id": "c5d1f1e1-95d1-4bf1-b914-74ec3658ab0b",
   "metadata": {},
   "outputs": [
    {
     "name": "stdout",
     "output_type": "stream",
     "text": [
      "\n",
      "Cleaned Life Expectancy DataFrame Preview:\n",
      "   Unnamed: 0             location_name  year  MeanLifeExpectency  \\\n",
      "0         228  Autauga County (Alabama)  2019           76.593265   \n",
      "1         234  Baldwin County (Alabama)  2019           78.293522   \n",
      "2         240  Barbour County (Alabama)  2019           74.814532   \n",
      "3         246     Bibb County (Alabama)  2019           73.920054   \n",
      "4         252   Blount County (Alabama)  2019           75.029186   \n",
      "\n",
      "           County    State  \n",
      "0  Autauga County  Alabama  \n",
      "1  Baldwin County  Alabama  \n",
      "2  Barbour County  Alabama  \n",
      "3     Bibb County  Alabama  \n",
      "4   Blount County  Alabama  \n"
     ]
    }
   ],
   "source": [
    "# Preview cleaned life expectancy dataframe\n",
    "print(\"\\nCleaned Life Expectancy DataFrame Preview:\")\n",
    "print(life_df.head())"
   ]
  },
  {
   "cell_type": "code",
   "execution_count": 10,
   "id": "47ddffaa-da9d-41bc-a472-b2db76de60b3",
   "metadata": {},
   "outputs": [
    {
     "name": "stdout",
     "output_type": "stream",
     "text": [
      "Index(['fips', 'name', 'state'], dtype='object')\n"
     ]
    }
   ],
   "source": [
    "# Inspect the FIPS dataframe's column names to find the correct ones\n",
    "print(fips_df.columns)"
   ]
  },
  {
   "cell_type": "code",
   "execution_count": 11,
   "id": "0082b5fe-adcd-4121-8e7f-d1b6deaa59f0",
   "metadata": {},
   "outputs": [],
   "source": [
    "# Ensure the county names in life_df match the format in fips_df\n",
    "life_df['County'] = life_df['County'].str.strip()"
   ]
  },
  {
   "cell_type": "code",
   "execution_count": 12,
   "id": "13ef661a-fb96-4f9c-bae8-8a87c264f170",
   "metadata": {},
   "outputs": [],
   "source": [
    "# Separate 'fips' into 'State_FIPS' and 'County_FIPS'\n",
    "fips_df['State_FIPS'] = fips_df['fips'].str[:2]  # First two characters for state FIPS\n",
    "fips_df['County_FIPS'] = fips_df['fips'].str[2:]  # Remaining three characters for county FIPS\n"
   ]
  },
  {
   "cell_type": "code",
   "execution_count": 13,
   "id": "260b4d87-2102-4adf-a510-8a3da9841d01",
   "metadata": {},
   "outputs": [
    {
     "data": {
      "text/html": [
       "<div>\n",
       "<style scoped>\n",
       "    .dataframe tbody tr th:only-of-type {\n",
       "        vertical-align: middle;\n",
       "    }\n",
       "\n",
       "    .dataframe tbody tr th {\n",
       "        vertical-align: top;\n",
       "    }\n",
       "\n",
       "    .dataframe thead th {\n",
       "        text-align: right;\n",
       "    }\n",
       "</style>\n",
       "<table border=\"1\" class=\"dataframe\">\n",
       "  <thead>\n",
       "    <tr style=\"text-align: right;\">\n",
       "      <th></th>\n",
       "      <th>fips</th>\n",
       "      <th>name</th>\n",
       "      <th>state</th>\n",
       "      <th>State_FIPS</th>\n",
       "      <th>County_FIPS</th>\n",
       "    </tr>\n",
       "  </thead>\n",
       "  <tbody>\n",
       "    <tr>\n",
       "      <th>0</th>\n",
       "      <td>01001</td>\n",
       "      <td>Autauga County</td>\n",
       "      <td>AL</td>\n",
       "      <td>01</td>\n",
       "      <td>001</td>\n",
       "    </tr>\n",
       "    <tr>\n",
       "      <th>1</th>\n",
       "      <td>01003</td>\n",
       "      <td>Baldwin County</td>\n",
       "      <td>AL</td>\n",
       "      <td>01</td>\n",
       "      <td>003</td>\n",
       "    </tr>\n",
       "    <tr>\n",
       "      <th>2</th>\n",
       "      <td>01005</td>\n",
       "      <td>Barbour County</td>\n",
       "      <td>AL</td>\n",
       "      <td>01</td>\n",
       "      <td>005</td>\n",
       "    </tr>\n",
       "    <tr>\n",
       "      <th>3</th>\n",
       "      <td>01007</td>\n",
       "      <td>Bibb County</td>\n",
       "      <td>AL</td>\n",
       "      <td>01</td>\n",
       "      <td>007</td>\n",
       "    </tr>\n",
       "    <tr>\n",
       "      <th>4</th>\n",
       "      <td>01009</td>\n",
       "      <td>Blount County</td>\n",
       "      <td>AL</td>\n",
       "      <td>01</td>\n",
       "      <td>009</td>\n",
       "    </tr>\n",
       "    <tr>\n",
       "      <th>...</th>\n",
       "      <td>...</td>\n",
       "      <td>...</td>\n",
       "      <td>...</td>\n",
       "      <td>...</td>\n",
       "      <td>...</td>\n",
       "    </tr>\n",
       "    <tr>\n",
       "      <th>3138</th>\n",
       "      <td>56037</td>\n",
       "      <td>Sweetwater County</td>\n",
       "      <td>WY</td>\n",
       "      <td>56</td>\n",
       "      <td>037</td>\n",
       "    </tr>\n",
       "    <tr>\n",
       "      <th>3139</th>\n",
       "      <td>56039</td>\n",
       "      <td>Teton County</td>\n",
       "      <td>WY</td>\n",
       "      <td>56</td>\n",
       "      <td>039</td>\n",
       "    </tr>\n",
       "    <tr>\n",
       "      <th>3140</th>\n",
       "      <td>56041</td>\n",
       "      <td>Uinta County</td>\n",
       "      <td>WY</td>\n",
       "      <td>56</td>\n",
       "      <td>041</td>\n",
       "    </tr>\n",
       "    <tr>\n",
       "      <th>3141</th>\n",
       "      <td>56043</td>\n",
       "      <td>Washakie County</td>\n",
       "      <td>WY</td>\n",
       "      <td>56</td>\n",
       "      <td>043</td>\n",
       "    </tr>\n",
       "    <tr>\n",
       "      <th>3142</th>\n",
       "      <td>56045</td>\n",
       "      <td>Weston County</td>\n",
       "      <td>WY</td>\n",
       "      <td>56</td>\n",
       "      <td>045</td>\n",
       "    </tr>\n",
       "  </tbody>\n",
       "</table>\n",
       "<p>3143 rows × 5 columns</p>\n",
       "</div>"
      ],
      "text/plain": [
       "       fips               name state State_FIPS County_FIPS\n",
       "0     01001     Autauga County    AL         01         001\n",
       "1     01003     Baldwin County    AL         01         003\n",
       "2     01005     Barbour County    AL         01         005\n",
       "3     01007        Bibb County    AL         01         007\n",
       "4     01009      Blount County    AL         01         009\n",
       "...     ...                ...   ...        ...         ...\n",
       "3138  56037  Sweetwater County    WY         56         037\n",
       "3139  56039       Teton County    WY         56         039\n",
       "3140  56041       Uinta County    WY         56         041\n",
       "3141  56043    Washakie County    WY         56         043\n",
       "3142  56045      Weston County    WY         56         045\n",
       "\n",
       "[3143 rows x 5 columns]"
      ]
     },
     "execution_count": 13,
     "metadata": {},
     "output_type": "execute_result"
    }
   ],
   "source": [
    "fips_df"
   ]
  },
  {
   "cell_type": "code",
   "execution_count": 14,
   "id": "13247134-5788-4985-9d80-95b5ba6f5205",
   "metadata": {},
   "outputs": [],
   "source": [
    "state_abbr_to_full = {\n",
    "    'AL': 'Alabama', 'AK': 'Alaska', 'AZ': 'Arizona', 'AR': 'Arkansas',\n",
    "    'CA': 'California', 'CO': 'Colorado', 'CT': 'Connecticut', 'DE': 'Delaware',\n",
    "    'FL': 'Florida', 'GA': 'Georgia', 'HI': 'Hawaii', 'ID': 'Idaho',\n",
    "    'IL': 'Illinois', 'IN': 'Indiana', 'IA': 'Iowa', 'KS': 'Kansas',\n",
    "    'KY': 'Kentucky', 'LA': 'Louisiana', 'ME': 'Maine', 'MD': 'Maryland',\n",
    "    'MA': 'Massachusetts', 'MI': 'Michigan', 'MN': 'Minnesota', 'MS': 'Mississippi',\n",
    "    'MO': 'Missouri', 'MT': 'Montana', 'NE': 'Nebraska', 'NV': 'Nevada',\n",
    "    'NH': 'New Hampshire', 'NJ': 'New Jersey', 'NM': 'New Mexico', 'NY': 'New York',\n",
    "    'NC': 'North Carolina', 'ND': 'North Dakota', 'OH': 'Ohio', 'OK': 'Oklahoma',\n",
    "    'OR': 'Oregon', 'PA': 'Pennsylvania', 'RI': 'Rhode Island', 'SC': 'South Carolina',\n",
    "    'SD': 'South Dakota', 'TN': 'Tennessee', 'TX': 'Texas', 'UT': 'Utah',\n",
    "    'VT': 'Vermont', 'VA': 'Virginia', 'WA': 'Washington', 'WV': 'West Virginia',\n",
    "    'WI': 'Wisconsin', 'WY': 'Wyoming'\n",
    "}\n"
   ]
  },
  {
   "cell_type": "code",
   "execution_count": 15,
   "id": "119ce796-c9bc-463c-91a3-b49cdc4c2f84",
   "metadata": {},
   "outputs": [],
   "source": [
    "# Correctly map the state abbreviations using the 'state' column\n",
    "fips_df['state_full'] = fips_df['state'].map(state_abbr_to_full)"
   ]
  },
  {
   "cell_type": "code",
   "execution_count": 16,
   "id": "8df03d05-3f77-443a-8fe7-7bb4168bafb5",
   "metadata": {},
   "outputs": [
    {
     "name": "stdout",
     "output_type": "stream",
     "text": [
      "  state state_full\n",
      "0    AL    Alabama\n",
      "1    AL    Alabama\n",
      "2    AL    Alabama\n",
      "3    AL    Alabama\n",
      "4    AL    Alabama\n"
     ]
    },
    {
     "data": {
      "text/html": [
       "<div>\n",
       "<style scoped>\n",
       "    .dataframe tbody tr th:only-of-type {\n",
       "        vertical-align: middle;\n",
       "    }\n",
       "\n",
       "    .dataframe tbody tr th {\n",
       "        vertical-align: top;\n",
       "    }\n",
       "\n",
       "    .dataframe thead th {\n",
       "        text-align: right;\n",
       "    }\n",
       "</style>\n",
       "<table border=\"1\" class=\"dataframe\">\n",
       "  <thead>\n",
       "    <tr style=\"text-align: right;\">\n",
       "      <th></th>\n",
       "      <th>fips</th>\n",
       "      <th>name</th>\n",
       "      <th>state</th>\n",
       "      <th>State_FIPS</th>\n",
       "      <th>County_FIPS</th>\n",
       "      <th>state_full</th>\n",
       "    </tr>\n",
       "  </thead>\n",
       "  <tbody>\n",
       "    <tr>\n",
       "      <th>0</th>\n",
       "      <td>01001</td>\n",
       "      <td>Autauga County</td>\n",
       "      <td>AL</td>\n",
       "      <td>01</td>\n",
       "      <td>001</td>\n",
       "      <td>Alabama</td>\n",
       "    </tr>\n",
       "    <tr>\n",
       "      <th>1</th>\n",
       "      <td>01003</td>\n",
       "      <td>Baldwin County</td>\n",
       "      <td>AL</td>\n",
       "      <td>01</td>\n",
       "      <td>003</td>\n",
       "      <td>Alabama</td>\n",
       "    </tr>\n",
       "    <tr>\n",
       "      <th>2</th>\n",
       "      <td>01005</td>\n",
       "      <td>Barbour County</td>\n",
       "      <td>AL</td>\n",
       "      <td>01</td>\n",
       "      <td>005</td>\n",
       "      <td>Alabama</td>\n",
       "    </tr>\n",
       "    <tr>\n",
       "      <th>3</th>\n",
       "      <td>01007</td>\n",
       "      <td>Bibb County</td>\n",
       "      <td>AL</td>\n",
       "      <td>01</td>\n",
       "      <td>007</td>\n",
       "      <td>Alabama</td>\n",
       "    </tr>\n",
       "    <tr>\n",
       "      <th>4</th>\n",
       "      <td>01009</td>\n",
       "      <td>Blount County</td>\n",
       "      <td>AL</td>\n",
       "      <td>01</td>\n",
       "      <td>009</td>\n",
       "      <td>Alabama</td>\n",
       "    </tr>\n",
       "    <tr>\n",
       "      <th>...</th>\n",
       "      <td>...</td>\n",
       "      <td>...</td>\n",
       "      <td>...</td>\n",
       "      <td>...</td>\n",
       "      <td>...</td>\n",
       "      <td>...</td>\n",
       "    </tr>\n",
       "    <tr>\n",
       "      <th>3138</th>\n",
       "      <td>56037</td>\n",
       "      <td>Sweetwater County</td>\n",
       "      <td>WY</td>\n",
       "      <td>56</td>\n",
       "      <td>037</td>\n",
       "      <td>Wyoming</td>\n",
       "    </tr>\n",
       "    <tr>\n",
       "      <th>3139</th>\n",
       "      <td>56039</td>\n",
       "      <td>Teton County</td>\n",
       "      <td>WY</td>\n",
       "      <td>56</td>\n",
       "      <td>039</td>\n",
       "      <td>Wyoming</td>\n",
       "    </tr>\n",
       "    <tr>\n",
       "      <th>3140</th>\n",
       "      <td>56041</td>\n",
       "      <td>Uinta County</td>\n",
       "      <td>WY</td>\n",
       "      <td>56</td>\n",
       "      <td>041</td>\n",
       "      <td>Wyoming</td>\n",
       "    </tr>\n",
       "    <tr>\n",
       "      <th>3141</th>\n",
       "      <td>56043</td>\n",
       "      <td>Washakie County</td>\n",
       "      <td>WY</td>\n",
       "      <td>56</td>\n",
       "      <td>043</td>\n",
       "      <td>Wyoming</td>\n",
       "    </tr>\n",
       "    <tr>\n",
       "      <th>3142</th>\n",
       "      <td>56045</td>\n",
       "      <td>Weston County</td>\n",
       "      <td>WY</td>\n",
       "      <td>56</td>\n",
       "      <td>045</td>\n",
       "      <td>Wyoming</td>\n",
       "    </tr>\n",
       "  </tbody>\n",
       "</table>\n",
       "<p>3143 rows × 6 columns</p>\n",
       "</div>"
      ],
      "text/plain": [
       "       fips               name state State_FIPS County_FIPS state_full\n",
       "0     01001     Autauga County    AL         01         001    Alabama\n",
       "1     01003     Baldwin County    AL         01         003    Alabama\n",
       "2     01005     Barbour County    AL         01         005    Alabama\n",
       "3     01007        Bibb County    AL         01         007    Alabama\n",
       "4     01009      Blount County    AL         01         009    Alabama\n",
       "...     ...                ...   ...        ...         ...        ...\n",
       "3138  56037  Sweetwater County    WY         56         037    Wyoming\n",
       "3139  56039       Teton County    WY         56         039    Wyoming\n",
       "3140  56041       Uinta County    WY         56         041    Wyoming\n",
       "3141  56043    Washakie County    WY         56         043    Wyoming\n",
       "3142  56045      Weston County    WY         56         045    Wyoming\n",
       "\n",
       "[3143 rows x 6 columns]"
      ]
     },
     "execution_count": 16,
     "metadata": {},
     "output_type": "execute_result"
    }
   ],
   "source": [
    "# Check the mapping\n",
    "print(fips_df[['state', 'state_full']].head())\n",
    "fips_df"
   ]
  },
  {
   "cell_type": "code",
   "execution_count": 17,
   "id": "97bfb7ac-ecba-429a-aaed-a21f4a5a3e34",
   "metadata": {},
   "outputs": [],
   "source": [
    "# Merge using the updated 'state_full' and 'name' columns\n",
    "merged_df = pd.merge(\n",
    "    life_df,\n",
    "    fips_df[['State_FIPS', 'County_FIPS', 'name', 'state_full']],\n",
    "    left_on=['State', 'County'],  # Corresponding to State and County in life_df\n",
    "    right_on=['state_full', 'name'],  # Match with the updated state_full and name in fips_df\n",
    "    how='left'\n",
    ")"
   ]
  },
  {
   "cell_type": "code",
   "execution_count": 18,
   "id": "9e60485b-d415-4f2c-b974-2197f4b19b88",
   "metadata": {},
   "outputs": [],
   "source": [
    "# Drop redundant columns if they are no longer needed\n",
    "merged_df = merged_df.drop(columns=['name', 'state_full'])\n"
   ]
  },
  {
   "cell_type": "code",
   "execution_count": 19,
   "id": "ede55425-bdaf-4fee-880d-32926ad8e5b9",
   "metadata": {},
   "outputs": [
    {
     "name": "stdout",
     "output_type": "stream",
     "text": [
      "   Unnamed: 0             location_name  year  MeanLifeExpectency  \\\n",
      "0         228  Autauga County (Alabama)  2019           76.593265   \n",
      "1         234  Baldwin County (Alabama)  2019           78.293522   \n",
      "2         240  Barbour County (Alabama)  2019           74.814532   \n",
      "3         246     Bibb County (Alabama)  2019           73.920054   \n",
      "4         252   Blount County (Alabama)  2019           75.029186   \n",
      "\n",
      "           County    State State_FIPS County_FIPS  \n",
      "0  Autauga County  Alabama         01         001  \n",
      "1  Baldwin County  Alabama         01         003  \n",
      "2  Barbour County  Alabama         01         005  \n",
      "3     Bibb County  Alabama         01         007  \n",
      "4   Blount County  Alabama         01         009  \n"
     ]
    }
   ],
   "source": [
    "# Preview the cleaned DataFrame\n",
    "print(merged_df.head())"
   ]
  },
  {
   "cell_type": "code",
   "execution_count": 20,
   "id": "ca9b38de-9d40-46e5-9a4d-ec3154650151",
   "metadata": {},
   "outputs": [],
   "source": [
    "# Fetch Median Income Data from ACS API\n",
    "api_key = '2a58865a16f7670d452bcfcb4a5b767db1ce8973'\n",
    "acs_endpoint = 'https://api.census.gov/data/2019/acs/acs5'"
   ]
  },
  {
   "cell_type": "code",
   "execution_count": 21,
   "id": "d5dc77e5-45fe-46e0-9e88-231e1b62c245",
   "metadata": {},
   "outputs": [],
   "source": [
    "params = {\n",
    "    'get': 'B19013_001',  # Median household income in the past 12 months\n",
    "    'for': 'county:*',      # Get data for all counties\n",
    "    'in': 'state:*',        # In all states\n",
    "    'key': api_key\n",
    "}"
   ]
  },
  {
   "cell_type": "code",
   "execution_count": 22,
   "id": "ae8c9855-7298-4662-8cd0-3007d0bc7f9a",
   "metadata": {},
   "outputs": [
    {
     "name": "stdout",
     "output_type": "stream",
     "text": [
      "\n",
      "Failed to fetch data. Status code: 400\n"
     ]
    }
   ],
   "source": [
    "response = requests.get(acs_endpoint, params=params)\n",
    "\n",
    "if response.status_code == 200:\n",
    "    print(\"\\nSuccessfully fetched median income data from ACS API.\")\n",
    "    income_data = response.json()\n",
    "else:\n",
    "    print(f\"\\nFailed to fetch data. Status code: {response.status_code}\")\n",
    "    exit()"
   ]
  },
  {
   "cell_type": "code",
   "execution_count": 23,
   "id": "b7297aec-126f-40a1-a83b-a83cfb646c32",
   "metadata": {},
   "outputs": [
    {
     "ename": "NameError",
     "evalue": "name 'income_data' is not defined",
     "output_type": "error",
     "traceback": [
      "\u001b[0;31m---------------------------------------------------------------------------\u001b[0m",
      "\u001b[0;31mNameError\u001b[0m                                 Traceback (most recent call last)",
      "Cell \u001b[0;32mIn[23], line 2\u001b[0m\n\u001b[1;32m      1\u001b[0m \u001b[38;5;66;03m# Convert the API Response to a DataFrame\u001b[39;00m\n\u001b[0;32m----> 2\u001b[0m income_df \u001b[38;5;241m=\u001b[39m pd\u001b[38;5;241m.\u001b[39mDataFrame(columns\u001b[38;5;241m=\u001b[39m\u001b[43mincome_data\u001b[49m[\u001b[38;5;241m0\u001b[39m], data\u001b[38;5;241m=\u001b[39mincome_data[\u001b[38;5;241m1\u001b[39m:])\n\u001b[1;32m      4\u001b[0m \u001b[38;5;66;03m# Rename columns for clarity\u001b[39;00m\n\u001b[1;32m      5\u001b[0m income_df \u001b[38;5;241m=\u001b[39m income_df\u001b[38;5;241m.\u001b[39mrename(columns\u001b[38;5;241m=\u001b[39m{\n\u001b[1;32m      6\u001b[0m     \u001b[38;5;124m'\u001b[39m\u001b[38;5;124mB19013_001\u001b[39m\u001b[38;5;124m'\u001b[39m: \u001b[38;5;124m'\u001b[39m\u001b[38;5;124mMedian_Income\u001b[39m\u001b[38;5;124m'\u001b[39m,\n\u001b[1;32m      7\u001b[0m     \u001b[38;5;124m'\u001b[39m\u001b[38;5;124mstate\u001b[39m\u001b[38;5;124m'\u001b[39m: \u001b[38;5;124m'\u001b[39m\u001b[38;5;124mState_FIPS\u001b[39m\u001b[38;5;124m'\u001b[39m,\n\u001b[1;32m      8\u001b[0m     \u001b[38;5;124m'\u001b[39m\u001b[38;5;124mcounty\u001b[39m\u001b[38;5;124m'\u001b[39m: \u001b[38;5;124m'\u001b[39m\u001b[38;5;124mCounty_FIPS\u001b[39m\u001b[38;5;124m'\u001b[39m\n\u001b[1;32m      9\u001b[0m })\n",
      "\u001b[0;31mNameError\u001b[0m: name 'income_data' is not defined"
     ]
    }
   ],
   "source": [
    "# Convert the API Response to a DataFrame\n",
    "income_df = pd.DataFrame(columns=income_data[0], data=income_data[1:])\n",
    "\n",
    "# Rename columns for clarity\n",
    "income_df = income_df.rename(columns={\n",
    "    'B19013_001': 'Median_Income',\n",
    "    'state': 'State_FIPS',\n",
    "    'county': 'County_FIPS'\n",
    "})"
   ]
  },
  {
   "cell_type": "code",
   "execution_count": null,
   "id": "0b2108dc-913a-4b44-b93b-9a02d2a8e7f4",
   "metadata": {},
   "outputs": [],
   "source": [
    "# Ensure FIPS codes have leading zeros where necessary\n",
    "income_df['State_FIPS'] = income_df['State_FIPS'].str.zfill(2)\n",
    "income_df['County_FIPS'] = income_df['County_FIPS'].str.zfill(3)"
   ]
  },
  {
   "cell_type": "code",
   "execution_count": null,
   "id": "29a5d3da-9e35-4ce9-ae30-a4919a9857fa",
   "metadata": {},
   "outputs": [],
   "source": [
    "# Convert Median_Income to numeric, handling missing values\n",
    "income_df['Median_Income'] = pd.to_numeric(income_df['Median_Income'], errors='coerce')\n"
   ]
  },
  {
   "cell_type": "code",
   "execution_count": null,
   "id": "9b22a5f3-7c7b-4ff4-8b3f-ab231200e47b",
   "metadata": {},
   "outputs": [],
   "source": [
    "# Step 4: Align FIPS Codes Before Merging\n",
    "# Ensure both DataFrames have FIPS codes formatted correctly\n",
    "merged_df['State_FIPS'] = merged_df['State_FIPS'].astype(str).str.zfill(2)\n",
    "merged_df['County_FIPS'] = merged_df['County_FIPS'].astype(str).str.zfill(3)"
   ]
  },
  {
   "cell_type": "code",
   "execution_count": null,
   "id": "489d7ddd-d86c-47c1-b8a5-7bf2b582726e",
   "metadata": {},
   "outputs": [],
   "source": [
    "# Step 5: Merge the DataFrames on State_FIPS and County_FIPS\n",
    "final_df = pd.merge(\n",
    "    merged_df,\n",
    "    income_df[['State_FIPS', 'County_FIPS', 'Median_Income']],\n",
    "    on=['State_FIPS', 'County_FIPS'],\n",
    "    how='left'\n",
    ")"
   ]
  },
  {
   "cell_type": "code",
   "execution_count": null,
   "id": "78185097-24f0-42ca-8593-39056229ca7b",
   "metadata": {},
   "outputs": [],
   "source": [
    "# Step 6: Diagnose Any Missing Median Income Data\n",
    "missing_income = final_df[final_df['Median_Income'].isnull()]\n",
    "\n",
    "if not missing_income.empty:\n",
    "    print(\"\\nMissing Median Income for the following FIPS codes:\")\n",
    "    print(missing_income[['State', 'County', 'State_FIPS', 'County_FIPS']].drop_duplicates())\n",
    "else:\n",
    "    print(\"\\nAll records have corresponding Median Income data.\")\n"
   ]
  },
  {
   "cell_type": "code",
   "execution_count": null,
   "id": "25621358-1941-4078-a29d-8179b4273481",
   "metadata": {},
   "outputs": [],
   "source": [
    "# Step 7: Save the Final DataFrame to a CSV File\n",
    "output_path = '/Users/samyakshrestha/Desktop/ER CASE/Life Expectancy/Data/final_dataset_with_income.csv'  # Update this path\n",
    "final_df.to_csv(output_path, index=False)\n",
    "print(f\"\\nFinal dataset with median income saved to: {output_path}\")"
   ]
  },
  {
   "cell_type": "code",
   "execution_count": null,
   "id": "9c7a7e3d-bc35-49e6-a066-ae3c48342c32",
   "metadata": {},
   "outputs": [],
   "source": [
    "# Convert Median_Income to numeric, handling missing values\n",
    "income_df['Median_Income'] = pd.to_numeric(income_df['Median_Income'], errors='coerce')\n",
    "# Set option to display all rows\n",
    "pd.set_option('display.max_rows', None)\n",
    "print(income_df)"
   ]
  },
  {
   "cell_type": "code",
   "execution_count": null,
   "id": "b83956e0-a24b-4203-a6da-1d6174f876f9",
   "metadata": {},
   "outputs": [],
   "source": [
    "# Step 4: Align FIPS Codes Before Merging\n",
    "# Ensure both DataFrames have FIPS codes formatted correctly\n",
    "merged_df['State_FIPS'] = merged_df['State_FIPS'].astype(str).str.zfill(2)\n",
    "merged_df['County_FIPS'] = merged_df['County_FIPS'].astype(str).str.zfill(3)"
   ]
  },
  {
   "cell_type": "code",
   "execution_count": null,
   "id": "012561f1-4b4b-4c9b-a17d-077032a46277",
   "metadata": {},
   "outputs": [],
   "source": [
    "# Step 5: Merge the DataFrames on State_FIPS and County_FIPS\n",
    "final_df = pd.merge(\n",
    "    merged_df,\n",
    "    income_df[['State_FIPS', 'County_FIPS', 'Median_Income']],\n",
    "    on=['State_FIPS', 'County_FIPS'],\n",
    "    how='left'\n",
    ")"
   ]
  },
  {
   "cell_type": "code",
   "execution_count": null,
   "id": "f9178985-fe97-42a0-af35-b50872e78290",
   "metadata": {},
   "outputs": [],
   "source": [
    "final_df"
   ]
  },
  {
   "cell_type": "code",
   "execution_count": null,
   "id": "fc9d4111-796c-4371-aa71-a14ede94a34f",
   "metadata": {},
   "outputs": [],
   "source": [
    "# Step 6: Diagnose Any Missing Median Income Data\n",
    "missing_income = final_df[final_df['Median_Income'].isnull()]"
   ]
  },
  {
   "cell_type": "code",
   "execution_count": null,
   "id": "213a0bce-dbb4-4627-a314-556095d90bdf",
   "metadata": {},
   "outputs": [],
   "source": [
    "missing_income"
   ]
  },
  {
   "cell_type": "code",
   "execution_count": null,
   "id": "73a1b456-fa1d-4f8c-aac2-e3063345a9c1",
   "metadata": {},
   "outputs": [],
   "source": [
    "if not missing_income.empty:\n",
    "    print(\"\\nMissing Median Income for the following FIPS codes:\")\n",
    "    print(missing_income[['State', 'County', 'State_FIPS', 'County_FIPS']].drop_duplicates())\n",
    "else:\n",
    "    print(\"\\nAll records have corresponding Median Income data.\")\n"
   ]
  },
  {
   "cell_type": "code",
   "execution_count": null,
   "id": "801967f3-39c1-4024-9248-d4a352b2fe89",
   "metadata": {},
   "outputs": [],
   "source": [
    "# Step 7: Save the Final DataFrame to a CSV File\n",
    "output_path = '/Users/samyakshrestha/Desktop/ER CASE/Life Expectancy/Data/final_dataset_with_income.csv'  # Update this path\n",
    "final_df.to_csv(output_path, index=False)\n",
    "print(f\"\\nFinal dataset with median income saved to: {output_path}\")"
   ]
  },
  {
   "cell_type": "code",
   "execution_count": null,
   "id": "5e5f1fea-fd26-4a63-83e5-3c4bddb5838b",
   "metadata": {},
   "outputs": [],
   "source": []
  }
 ],
 "metadata": {
  "kernelspec": {
   "display_name": "Python 3 (ipykernel)",
   "language": "python",
   "name": "python3"
  },
  "language_info": {
   "codemirror_mode": {
    "name": "ipython",
    "version": 3
   },
   "file_extension": ".py",
   "mimetype": "text/x-python",
   "name": "python",
   "nbconvert_exporter": "python",
   "pygments_lexer": "ipython3",
   "version": "3.10.13"
  }
 },
 "nbformat": 4,
 "nbformat_minor": 5
}

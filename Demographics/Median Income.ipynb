{
 "cells": [
  {
   "cell_type": "code",
   "execution_count": 12,
   "id": "eb996b2e-cc97-470c-bca9-585395d1cae5",
   "metadata": {},
   "outputs": [],
   "source": [
    "import requests\n",
    "import pandas as pd"
   ]
  },
  {
   "cell_type": "code",
   "execution_count": 13,
   "id": "c3954a7a-0205-4ca9-ad10-91f7a803b022",
   "metadata": {},
   "outputs": [],
   "source": [
    "# ACS API endpoint for 2019 5-Year Estimates\n",
    "acs_url = \"https://api.census.gov/data/2019/acs/acs5\""
   ]
  },
  {
   "cell_type": "code",
   "execution_count": 14,
   "id": "1c209923-4acc-48f6-a5fe-1d45237b14ba",
   "metadata": {},
   "outputs": [],
   "source": [
    "# Parameters for the API request\n",
    "params = {\n",
    "    \"get\": \"B19013_001E\",  # Median household income in the past 12 months\n",
    "    \"for\": \"county:*\",     # Get data for all counties\n",
    "    \"in\": \"state:*\",       # In all states\n",
    "    \"key\": \"2a58865a16f7670d452bcfcb4a5b767db1ce8973\"  # Replace with your actual Census API key\n",
    "}\n"
   ]
  },
  {
   "cell_type": "code",
   "execution_count": 15,
   "id": "9e3ebee3-1ae2-4131-a345-bb0e2414baf5",
   "metadata": {},
   "outputs": [],
   "source": [
    "# Make the API request\n",
    "response = requests.get(acs_url, params=params)"
   ]
  },
  {
   "cell_type": "code",
   "execution_count": 16,
   "id": "d4cfa73b-e2ae-4b65-8474-966332476388",
   "metadata": {},
   "outputs": [],
   "source": [
    "# Convert the response to JSON\n",
    "data = response.json()"
   ]
  },
  {
   "cell_type": "code",
   "execution_count": 17,
   "id": "7b144eef-0f6d-4a84-9a64-ae2d1e8fa7fe",
   "metadata": {},
   "outputs": [],
   "source": [
    "# Convert the data to a DataFrame\n",
    "columns = data[0]\n",
    "income_data = pd.DataFrame(data[1:], columns=columns)"
   ]
  },
  {
   "cell_type": "code",
   "execution_count": 18,
   "id": "13636f5f-e91f-4a62-8714-35ae583d84f5",
   "metadata": {},
   "outputs": [],
   "source": [
    "# Rename the columns for clarity\n",
    "income_data = income_data.rename(columns={\n",
    "    \"B19013_001E\": \"median_income\",\n",
    "    \"state\": \"State_FIPS\",\n",
    "    \"county\": \"County_FIPS\"\n",
    "})"
   ]
  },
  {
   "cell_type": "code",
   "execution_count": 19,
   "id": "58e9997d-1732-4fc5-898f-26cf4c1423d6",
   "metadata": {},
   "outputs": [],
   "source": [
    "# Load your 2019 dataset\n",
    "df_2019 = pd.read_csv('/Users/samyakshrestha/Desktop/ER CASE/Life Expectancy/Data/Single_year_Dataframe.csv')"
   ]
  },
  {
   "cell_type": "code",
   "execution_count": 20,
   "id": "4a0d7275-99b7-4521-929c-55b97ef013ad",
   "metadata": {},
   "outputs": [],
   "source": [
    "# Clean up the location_name column to separate county and state\n",
    "df_2019[['County', 'State']] = df_2019['location_name'].str.extract(r'^(.*) \\((.*)\\)$')"
   ]
  },
  {
   "cell_type": "code",
   "execution_count": 21,
   "id": "e1eb1644-2926-4698-8687-26e75594e935",
   "metadata": {},
   "outputs": [],
   "source": [
    "# Merge the income data with your 2019 dataset\n",
    "merged_df = df_2019.merge(income_data, left_on=['County', 'State'], right_on=['County_FIPS', 'State_FIPS'], how='left')"
   ]
  },
  {
   "cell_type": "code",
   "execution_count": 22,
   "id": "66db2ecd-ccbd-4bba-b510-3df25c63efa9",
   "metadata": {},
   "outputs": [],
   "source": [
    "# Save the merged DataFrame to a new CSV file\n",
    "merged_df.to_csv('/Users/samyakshrestha/Desktop/ER CASE/Life Expectancy/Data/merged_dataset.csv', index=False)"
   ]
  },
  {
   "cell_type": "code",
   "execution_count": null,
   "id": "9cf884aa-78ad-4024-9efe-3bb6fe2f3c87",
   "metadata": {},
   "outputs": [],
   "source": []
  }
 ],
 "metadata": {
  "kernelspec": {
   "display_name": "Python 3 (ipykernel)",
   "language": "python",
   "name": "python3"
  },
  "language_info": {
   "codemirror_mode": {
    "name": "ipython",
    "version": 3
   },
   "file_extension": ".py",
   "mimetype": "text/x-python",
   "name": "python",
   "nbconvert_exporter": "python",
   "pygments_lexer": "ipython3",
   "version": "3.10.13"
  }
 },
 "nbformat": 4,
 "nbformat_minor": 5
}

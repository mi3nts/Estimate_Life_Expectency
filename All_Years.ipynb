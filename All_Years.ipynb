{
 "cells": [
  {
   "cell_type": "code",
   "execution_count": 1,
   "id": "68055cdc-24f6-4ae8-899c-2e12f9cf8d1f",
   "metadata": {},
   "outputs": [],
   "source": [
    "## importing necessary libraries\n",
    "\n",
    "import pandas as pd\n",
    "import os"
   ]
  },
  {
   "cell_type": "code",
   "execution_count": 2,
   "id": "5afb19af-4644-4da0-a941-3005ed414a56",
   "metadata": {},
   "outputs": [],
   "source": [
    "DATA_PATH = 'Life_Expectency_Data'"
   ]
  },
  {
   "cell_type": "code",
   "execution_count": 3,
   "id": "eab10e64-124b-47c7-a1cb-54a92d7d0080",
   "metadata": {},
   "outputs": [
    {
     "data": {
      "text/plain": [
       "['IHME_USA_COD_COUNTY_RACE_ETHN_2000_2019_LT_2000_ALL_BOTH_Y2023M06D12.CSV',\n",
       " 'IHME_USA_COD_COUNTY_RACE_ETHN_2000_2019_LT_2001_ALL_BOTH_Y2023M06D12.CSV',\n",
       " 'IHME_USA_COD_COUNTY_RACE_ETHN_2000_2019_LT_2002_ALL_BOTH_Y2023M06D12.CSV',\n",
       " 'IHME_USA_COD_COUNTY_RACE_ETHN_2000_2019_LT_2003_ALL_BOTH_Y2023M06D12.CSV',\n",
       " 'IHME_USA_COD_COUNTY_RACE_ETHN_2000_2019_LT_2004_ALL_BOTH_Y2023M06D12.CSV',\n",
       " 'IHME_USA_COD_COUNTY_RACE_ETHN_2000_2019_LT_2005_ALL_BOTH_Y2023M06D12.CSV',\n",
       " 'IHME_USA_COD_COUNTY_RACE_ETHN_2000_2019_LT_2006_ALL_BOTH_Y2023M06D12.CSV',\n",
       " 'IHME_USA_COD_COUNTY_RACE_ETHN_2000_2019_LT_2007_ALL_BOTH_Y2023M06D12.CSV',\n",
       " 'IHME_USA_COD_COUNTY_RACE_ETHN_2000_2019_LT_2008_ALL_BOTH_Y2023M06D12.CSV',\n",
       " 'IHME_USA_COD_COUNTY_RACE_ETHN_2000_2019_LT_2009_ALL_BOTH_Y2023M06D12.CSV',\n",
       " 'IHME_USA_COD_COUNTY_RACE_ETHN_2000_2019_LT_2010_ALL_BOTH_Y2023M06D12.CSV',\n",
       " 'IHME_USA_COD_COUNTY_RACE_ETHN_2000_2019_LT_2011_ALL_BOTH_Y2023M06D12.CSV',\n",
       " 'IHME_USA_COD_COUNTY_RACE_ETHN_2000_2019_LT_2012_ALL_BOTH_Y2023M06D12.CSV',\n",
       " 'IHME_USA_COD_COUNTY_RACE_ETHN_2000_2019_LT_2013_ALL_BOTH_Y2023M06D12.CSV',\n",
       " 'IHME_USA_COD_COUNTY_RACE_ETHN_2000_2019_LT_2014_ALL_BOTH_Y2023M06D12.CSV',\n",
       " 'IHME_USA_COD_COUNTY_RACE_ETHN_2000_2019_LT_2015_ALL_BOTH_Y2023M06D12.CSV',\n",
       " 'IHME_USA_COD_COUNTY_RACE_ETHN_2000_2019_LT_2016_ALL_BOTH_Y2023M06D12.CSV',\n",
       " 'IHME_USA_COD_COUNTY_RACE_ETHN_2000_2019_LT_2017_ALL_BOTH_Y2023M06D12.CSV',\n",
       " 'IHME_USA_COD_COUNTY_RACE_ETHN_2000_2019_LT_2018_ALL_BOTH_Y2023M06D12.CSV',\n",
       " 'IHME_USA_COD_COUNTY_RACE_ETHN_2000_2019_LT_2019_ALL_BOTH_Y2023M06D12.CSV']"
      ]
     },
     "execution_count": 3,
     "metadata": {},
     "output_type": "execute_result"
    }
   ],
   "source": [
    "# List all the csv files in the folder\n",
    "\n",
    "csv_files = [x for x in os.listdir(DATA_PATH) if x.endswith('.CSV')] ## this is an example of list comprehension\n",
    "csv_files"
   ]
  },
  {
   "cell_type": "code",
   "execution_count": 4,
   "id": "89578bc5-f636-4027-8e10-8b42cddb23c2",
   "metadata": {},
   "outputs": [
    {
     "data": {
      "text/plain": [
       "list"
      ]
     },
     "execution_count": 4,
     "metadata": {},
     "output_type": "execute_result"
    }
   ],
   "source": [
    "type(csv_files)"
   ]
  },
  {
   "cell_type": "code",
   "execution_count": 5,
   "id": "1ccf729b-5f6e-47bf-8cbd-b19fddba13b0",
   "metadata": {},
   "outputs": [],
   "source": [
    "# lets create an empty list to store the dataframes\n",
    "dataframes = []\n",
    "\n",
    "# lets loop over the list of CSV files and read each one\n",
    "\n",
    "for file in csv_files:\n",
    "    file_path = os.path.join(DATA_PATH, file)\n",
    "    df = pd.read_csv(file_path)\n",
    "    dataframes.append(df)\n"
   ]
  },
  {
   "cell_type": "code",
   "execution_count": 6,
   "id": "5a05440f-2751-4b4b-b440-05d4be5477a7",
   "metadata": {},
   "outputs": [
    {
     "name": "stdout",
     "output_type": "stream",
     "text": [
      "<class 'list'>\n",
      "20\n"
     ]
    }
   ],
   "source": [
    "print(type(dataframes))\n",
    "print(len(dataframes)) ## A total of 20 dataframes, stored as a list\n"
   ]
  },
  {
   "cell_type": "code",
   "execution_count": 7,
   "id": "96b0a33d-c459-439d-9d66-c6e50c11a0c7",
   "metadata": {},
   "outputs": [],
   "source": [
    "reduced_dataframe=[]\n",
    "\n",
    "for i in range (0,20):\n",
    "    \n",
    "    ## lets extract the total life expectency and only of the age group less than 1 year olds.\n",
    "\n",
    "    df2=dataframes[i].loc[(dataframes[i]['race_name'] == 'Total') & (dataframes[i]['age_name'] == '<1 year')]\n",
    "\n",
    "    ## lets remove empty cells\n",
    "\n",
    "    df3=df2.dropna()\n",
    "\n",
    "    ## As the dataframe consists of life expectencey at the state level as well\n",
    "    ## lets gather only those with county, since fips for state end at 56, will set the condition to be greater than this to get the data at the county level.\n",
    "\n",
    "    df4=df3.loc[(df3['fips'] > 60)]\n",
    "\n",
    "\n",
    "    ## lets delete these columns. \n",
    "    df5 = df4.drop(['measure_id', 'location_id', 'measure_name', 'race_id', 'race_name', 'sex_id', 'sex_name', 'age_group_id',\n",
    "     'age_name', 'metric_id', 'metric_name', 'upper', 'lower'], axis=1)\n",
    "\n",
    "    ## lets rename the column val to mean life expectency. \n",
    "    df5 = df5.rename(columns={'val': 'MeanLifeExpectency'})\n",
    "\n",
    "    reduced_dataframe.append(df5)\n"
   ]
  },
  {
   "cell_type": "code",
   "execution_count": 8,
   "id": "f6e75fc9-30b0-41cb-b0e7-6dd44adb7e0a",
   "metadata": {},
   "outputs": [
    {
     "name": "stdout",
     "output_type": "stream",
     "text": [
      "<class 'list'>\n",
      "20\n"
     ]
    }
   ],
   "source": [
    "print(type(reduced_dataframe))\n",
    "print(len(reduced_dataframe)) "
   ]
  },
  {
   "cell_type": "code",
   "execution_count": 9,
   "id": "6df3ee2e-422a-41eb-8975-7805df3e29f3",
   "metadata": {},
   "outputs": [
    {
     "data": {
      "text/html": [
       "<div>\n",
       "<style scoped>\n",
       "    .dataframe tbody tr th:only-of-type {\n",
       "        vertical-align: middle;\n",
       "    }\n",
       "\n",
       "    .dataframe tbody tr th {\n",
       "        vertical-align: top;\n",
       "    }\n",
       "\n",
       "    .dataframe thead th {\n",
       "        text-align: right;\n",
       "    }\n",
       "</style>\n",
       "<table border=\"1\" class=\"dataframe\">\n",
       "  <thead>\n",
       "    <tr style=\"text-align: right;\">\n",
       "      <th></th>\n",
       "      <th>location_name</th>\n",
       "      <th>fips</th>\n",
       "      <th>year</th>\n",
       "      <th>MeanLifeExpectency</th>\n",
       "    </tr>\n",
       "  </thead>\n",
       "  <tbody>\n",
       "    <tr>\n",
       "      <th>0</th>\n",
       "      <td>Autauga County (Alabama)</td>\n",
       "      <td>1001.0</td>\n",
       "      <td>2000</td>\n",
       "      <td>74.712886</td>\n",
       "    </tr>\n",
       "    <tr>\n",
       "      <th>1</th>\n",
       "      <td>Baldwin County (Alabama)</td>\n",
       "      <td>1003.0</td>\n",
       "      <td>2000</td>\n",
       "      <td>76.699950</td>\n",
       "    </tr>\n",
       "    <tr>\n",
       "      <th>2</th>\n",
       "      <td>Barbour County (Alabama)</td>\n",
       "      <td>1005.0</td>\n",
       "      <td>2000</td>\n",
       "      <td>74.009403</td>\n",
       "    </tr>\n",
       "    <tr>\n",
       "      <th>3</th>\n",
       "      <td>Bibb County (Alabama)</td>\n",
       "      <td>1007.0</td>\n",
       "      <td>2000</td>\n",
       "      <td>73.201889</td>\n",
       "    </tr>\n",
       "    <tr>\n",
       "      <th>4</th>\n",
       "      <td>Blount County (Alabama)</td>\n",
       "      <td>1009.0</td>\n",
       "      <td>2000</td>\n",
       "      <td>75.274624</td>\n",
       "    </tr>\n",
       "    <tr>\n",
       "      <th>...</th>\n",
       "      <td>...</td>\n",
       "      <td>...</td>\n",
       "      <td>...</td>\n",
       "      <td>...</td>\n",
       "    </tr>\n",
       "    <tr>\n",
       "      <th>62535</th>\n",
       "      <td>Sweetwater County (Wyoming)</td>\n",
       "      <td>56037.0</td>\n",
       "      <td>2019</td>\n",
       "      <td>78.018892</td>\n",
       "    </tr>\n",
       "    <tr>\n",
       "      <th>62536</th>\n",
       "      <td>Teton County (Wyoming)</td>\n",
       "      <td>56039.0</td>\n",
       "      <td>2019</td>\n",
       "      <td>85.638149</td>\n",
       "    </tr>\n",
       "    <tr>\n",
       "      <th>62537</th>\n",
       "      <td>Uinta County (Wyoming)</td>\n",
       "      <td>56041.0</td>\n",
       "      <td>2019</td>\n",
       "      <td>77.521691</td>\n",
       "    </tr>\n",
       "    <tr>\n",
       "      <th>62538</th>\n",
       "      <td>Washakie County (Wyoming)</td>\n",
       "      <td>56043.0</td>\n",
       "      <td>2019</td>\n",
       "      <td>78.137158</td>\n",
       "    </tr>\n",
       "    <tr>\n",
       "      <th>62539</th>\n",
       "      <td>Weston County (Wyoming)</td>\n",
       "      <td>56045.0</td>\n",
       "      <td>2019</td>\n",
       "      <td>79.189934</td>\n",
       "    </tr>\n",
       "  </tbody>\n",
       "</table>\n",
       "<p>62540 rows × 4 columns</p>\n",
       "</div>"
      ],
      "text/plain": [
       "                     location_name     fips  year  MeanLifeExpectency\n",
       "0         Autauga County (Alabama)   1001.0  2000           74.712886\n",
       "1         Baldwin County (Alabama)   1003.0  2000           76.699950\n",
       "2         Barbour County (Alabama)   1005.0  2000           74.009403\n",
       "3            Bibb County (Alabama)   1007.0  2000           73.201889\n",
       "4          Blount County (Alabama)   1009.0  2000           75.274624\n",
       "...                            ...      ...   ...                 ...\n",
       "62535  Sweetwater County (Wyoming)  56037.0  2019           78.018892\n",
       "62536       Teton County (Wyoming)  56039.0  2019           85.638149\n",
       "62537       Uinta County (Wyoming)  56041.0  2019           77.521691\n",
       "62538    Washakie County (Wyoming)  56043.0  2019           78.137158\n",
       "62539      Weston County (Wyoming)  56045.0  2019           79.189934\n",
       "\n",
       "[62540 rows x 4 columns]"
      ]
     },
     "execution_count": 9,
     "metadata": {},
     "output_type": "execute_result"
    }
   ],
   "source": [
    "final_df=pd.concat(reduced_dataframe,ignore_index=True)\n",
    "final_df"
   ]
  },
  {
   "cell_type": "code",
   "execution_count": 10,
   "id": "385ffc9c-ec15-43e4-bab2-5e5de271ac92",
   "metadata": {},
   "outputs": [
    {
     "name": "stdout",
     "output_type": "stream",
     "text": [
      "<class 'pandas.core.frame.DataFrame'>\n",
      "RangeIndex: 62540 entries, 0 to 62539\n",
      "Data columns (total 4 columns):\n",
      " #   Column              Non-Null Count  Dtype  \n",
      "---  ------              --------------  -----  \n",
      " 0   location_name       62540 non-null  object \n",
      " 1   fips                62540 non-null  float64\n",
      " 2   year                62540 non-null  int64  \n",
      " 3   MeanLifeExpectency  62540 non-null  float64\n",
      "dtypes: float64(2), int64(1), object(1)\n",
      "memory usage: 1.9+ MB\n"
     ]
    }
   ],
   "source": [
    "final_df.info()"
   ]
  },
  {
   "cell_type": "code",
   "execution_count": 11,
   "id": "6acde66c-46ed-46a9-8845-7207aa87e547",
   "metadata": {},
   "outputs": [
    {
     "data": {
      "text/html": [
       "<div>\n",
       "<style scoped>\n",
       "    .dataframe tbody tr th:only-of-type {\n",
       "        vertical-align: middle;\n",
       "    }\n",
       "\n",
       "    .dataframe tbody tr th {\n",
       "        vertical-align: top;\n",
       "    }\n",
       "\n",
       "    .dataframe thead th {\n",
       "        text-align: right;\n",
       "    }\n",
       "</style>\n",
       "<table border=\"1\" class=\"dataframe\">\n",
       "  <thead>\n",
       "    <tr style=\"text-align: right;\">\n",
       "      <th></th>\n",
       "      <th>fips</th>\n",
       "      <th>year</th>\n",
       "      <th>MeanLifeExpectency</th>\n",
       "    </tr>\n",
       "  </thead>\n",
       "  <tbody>\n",
       "    <tr>\n",
       "      <th>count</th>\n",
       "      <td>62540.000000</td>\n",
       "      <td>62540.000000</td>\n",
       "      <td>62540.000000</td>\n",
       "    </tr>\n",
       "    <tr>\n",
       "      <th>mean</th>\n",
       "      <td>30297.793092</td>\n",
       "      <td>2009.500000</td>\n",
       "      <td>77.030626</td>\n",
       "    </tr>\n",
       "    <tr>\n",
       "      <th>std</th>\n",
       "      <td>15248.203271</td>\n",
       "      <td>5.766327</td>\n",
       "      <td>2.462231</td>\n",
       "    </tr>\n",
       "    <tr>\n",
       "      <th>min</th>\n",
       "      <td>1001.000000</td>\n",
       "      <td>2000.000000</td>\n",
       "      <td>65.176273</td>\n",
       "    </tr>\n",
       "    <tr>\n",
       "      <th>25%</th>\n",
       "      <td>18157.000000</td>\n",
       "      <td>2004.750000</td>\n",
       "      <td>75.351288</td>\n",
       "    </tr>\n",
       "    <tr>\n",
       "      <th>50%</th>\n",
       "      <td>29149.000000</td>\n",
       "      <td>2009.500000</td>\n",
       "      <td>77.133494</td>\n",
       "    </tr>\n",
       "    <tr>\n",
       "      <th>75%</th>\n",
       "      <td>45083.000000</td>\n",
       "      <td>2014.250000</td>\n",
       "      <td>78.709520</td>\n",
       "    </tr>\n",
       "    <tr>\n",
       "      <th>max</th>\n",
       "      <td>56045.000000</td>\n",
       "      <td>2019.000000</td>\n",
       "      <td>92.253858</td>\n",
       "    </tr>\n",
       "  </tbody>\n",
       "</table>\n",
       "</div>"
      ],
      "text/plain": [
       "               fips          year  MeanLifeExpectency\n",
       "count  62540.000000  62540.000000        62540.000000\n",
       "mean   30297.793092   2009.500000           77.030626\n",
       "std    15248.203271      5.766327            2.462231\n",
       "min     1001.000000   2000.000000           65.176273\n",
       "25%    18157.000000   2004.750000           75.351288\n",
       "50%    29149.000000   2009.500000           77.133494\n",
       "75%    45083.000000   2014.250000           78.709520\n",
       "max    56045.000000   2019.000000           92.253858"
      ]
     },
     "execution_count": 11,
     "metadata": {},
     "output_type": "execute_result"
    }
   ],
   "source": [
    "final_df.describe()"
   ]
  },
  {
   "cell_type": "code",
   "execution_count": 12,
   "id": "4e6a1e63-53cf-4d99-87fe-5ba2e7fcedc2",
   "metadata": {},
   "outputs": [],
   "source": [
    "#final_df.to_csv(\"All_year_dataframe.csv\")"
   ]
  },
  {
   "cell_type": "code",
   "execution_count": null,
   "id": "a1562883-8591-4f0c-972a-c688e3c3d326",
   "metadata": {},
   "outputs": [],
   "source": []
  }
 ],
 "metadata": {
  "kernelspec": {
   "display_name": "Python 3 (ipykernel)",
   "language": "python",
   "name": "python3"
  },
  "language_info": {
   "codemirror_mode": {
    "name": "ipython",
    "version": 3
   },
   "file_extension": ".py",
   "mimetype": "text/x-python",
   "name": "python",
   "nbconvert_exporter": "python",
   "pygments_lexer": "ipython3",
   "version": "3.9.13"
  }
 },
 "nbformat": 4,
 "nbformat_minor": 5
}
